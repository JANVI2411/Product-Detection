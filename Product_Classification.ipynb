{
  "nbformat": 4,
  "nbformat_minor": 0,
  "metadata": {
    "accelerator": "GPU",
    "colab": {
      "name": "Product Classification.ipynb",
      "provenance": [],
      "collapsed_sections": [
        "ggN-XR4bYee2",
        "lSzQb_dRZMNS"
      ],
      "toc_visible": true
    },
    "kernelspec": {
      "display_name": "Python 3",
      "name": "python3"
    }
  },
  "cells": [
    {
      "cell_type": "code",
      "metadata": {
        "colab": {
          "base_uri": "https://localhost:8080/"
        },
        "id": "fL5mWJdcB9Ts",
        "outputId": "bde7876b-fc2c-4d6d-b165-fa10e62ddd69"
      },
      "source": [
        "from google.colab import drive\n",
        "drive.mount('/content/drive')  "
      ],
      "execution_count": null,
      "outputs": [
        {
          "output_type": "stream",
          "text": [
            "Mounted at /content/drive\n"
          ],
          "name": "stdout"
        }
      ]
    },
    {
      "cell_type": "markdown",
      "metadata": {
        "id": "6rguc5VzuBu2"
      },
      "source": [
        "# Data Pipeline"
      ]
    },
    {
      "cell_type": "code",
      "metadata": {
        "id": "jj_-Jpca3yTS"
      },
      "source": [
        "import glob\n",
        "import cv2\n",
        "import numpy as np\n",
        "import os\n",
        "import PIL\n",
        "import PIL.Image\n",
        "import tensorflow as tf\n",
        "import tensorflow_datasets as tfds\n",
        "from tensorflow.keras import layers"
      ],
      "execution_count": null,
      "outputs": []
    },
    {
      "cell_type": "code",
      "metadata": {
        "colab": {
          "base_uri": "https://localhost:8080/"
        },
        "id": "74Yfwg9ox1t2",
        "outputId": "946efac4-f7aa-4aba-f162-5a14954a1c9c"
      },
      "source": [
        "main_train_paths=[]\n",
        "main_test_paths=[]\n",
        "main_val_paths=[]\n",
        "for i in range(1,11):\n",
        "  path=f'/content/drive/MyDrive/Object_detection/GroceryDataset_part1/ProductImages/{i}/*.jpg'\n",
        "  paths=glob.glob(path)\n",
        "  part1=int(len(paths)*0.9)\n",
        "  train_paths=paths[:part1]\n",
        "  test_paths=paths[part1:]\n",
        "  part2=int(len(train_paths)*0.8)\n",
        "  val_paths=train_paths[part2:]\n",
        "  train_paths=train_paths[:part2]\n",
        "  main_train_paths+=train_paths\n",
        "  main_val_paths+=val_paths\n",
        "  main_test_paths+=test_paths\n",
        "  \n",
        "train_image_count=len(main_train_paths)\n",
        "val_image_count=len(main_val_paths)\n",
        "test_image_count=len(main_test_paths)\n",
        "print(train_image_count,test_image_count,val_image_count)"
      ],
      "execution_count": null,
      "outputs": [
        {
          "output_type": "stream",
          "text": [
            "2659 376 671\n"
          ],
          "name": "stdout"
        }
      ]
    },
    {
      "cell_type": "code",
      "metadata": {
        "colab": {
          "base_uri": "https://localhost:8080/"
        },
        "id": "EjGnHhpX9y7r",
        "outputId": "a6a8a3ea-de7f-439d-ed9d-707821f8ed51"
      },
      "source": [
        "for i in range(1,11):\n",
        "  path=f'/content/drive/MyDrive/Object_detection/GroceryDataset_part1/aug_images/{i}/*.jpg'\n",
        "  paths=glob.glob(path)\n",
        "  part1=int(len(paths)*0.9)\n",
        "  train_paths=paths[:part1]\n",
        "  test_paths=paths[part1:]\n",
        "  part2=int(len(train_paths)*0.8)\n",
        "  val_paths=train_paths[part2:]\n",
        "  train_paths=train_paths[:part2]\n",
        "  main_train_paths+=train_paths\n",
        "  main_val_paths+=val_paths\n",
        "  main_test_paths+=test_paths\n",
        "  \n",
        "train_image_count=len(main_train_paths)\n",
        "val_image_count=len(main_val_paths)\n",
        "test_image_count=len(main_test_paths)\n",
        "print(train_image_count,test_image_count,val_image_count)"
      ],
      "execution_count": null,
      "outputs": [
        {
          "output_type": "stream",
          "text": [
            "5179 736 1301\n"
          ],
          "name": "stdout"
        }
      ]
    },
    {
      "cell_type": "code",
      "metadata": {
        "id": "OXf3vCjOyeIj"
      },
      "source": [
        "train_ds = tf.data.Dataset.list_files(main_train_paths, shuffle=False)\n",
        "train_ds = train_ds.shuffle(train_image_count, reshuffle_each_iteration=False)"
      ],
      "execution_count": null,
      "outputs": []
    },
    {
      "cell_type": "code",
      "metadata": {
        "id": "9OygRHWO96oe"
      },
      "source": [
        "val_ds = tf.data.Dataset.list_files(main_val_paths, shuffle=False)\n",
        "val_ds = val_ds.shuffle(val_image_count, reshuffle_each_iteration=False)"
      ],
      "execution_count": null,
      "outputs": []
    },
    {
      "cell_type": "code",
      "metadata": {
        "id": "RFL8b55lzOL7"
      },
      "source": [
        "test_ds = tf.data.Dataset.list_files(main_test_paths, shuffle=False)\n",
        "test_ds = test_ds.shuffle(test_image_count, reshuffle_each_iteration=False)"
      ],
      "execution_count": null,
      "outputs": []
    },
    {
      "cell_type": "code",
      "metadata": {
        "colab": {
          "base_uri": "https://localhost:8080/"
        },
        "id": "sCDbC7X9zEIM",
        "outputId": "a79c8012-6efd-40a7-f2da-d880afac2347"
      },
      "source": [
        "for i in train_ds.take(5):\n",
        "  print(i.numpy())"
      ],
      "execution_count": null,
      "outputs": [
        {
          "output_type": "stream",
          "text": [
            "b'/content/drive/MyDrive/Object_detection/GroceryDataset_part1/ProductImages/5/B5_N9.jpg'\n",
            "b'/content/drive/MyDrive/Object_detection/GroceryDataset_part1/aug_images/2/FlipUpDown-B2_N264.jpg'\n",
            "b'/content/drive/MyDrive/Object_detection/GroceryDataset_part1/ProductImages/9/B9_N168.jpg'\n",
            "b'/content/drive/MyDrive/Object_detection/GroceryDataset_part1/aug_images/8/Rotation-B8_N292.jpg'\n",
            "b'/content/drive/MyDrive/Object_detection/GroceryDataset_part1/aug_images/7/FlipUpDown-B7_N236.jpg'\n"
          ],
          "name": "stdout"
        }
      ]
    },
    {
      "cell_type": "markdown",
      "metadata": {
        "id": "jJ12yit08I6c"
      },
      "source": [
        "# Create Augmented Data"
      ]
    },
    {
      "cell_type": "code",
      "metadata": {
        "id": "PjfEznOVvxa1"
      },
      "source": [
        "data_augmentation = tf.keras.Sequential([\n",
        "  layers.experimental.preprocessing.RandomRotation(0.2),\n",
        "])\n",
        "\n",
        "def flip_ud(img):\n",
        "  img = tf.image.random_flip_up_down(img)\n",
        "  return img \n",
        "def sat_img(img): \n",
        "  img = tf.image.adjust_saturation(img, 3)\n",
        "  return img \n",
        "def cen_img(img):\n",
        "  img = tf.image.central_crop(img,central_fraction=0.85)\n",
        "  return img\n",
        "\n",
        "def aug_process_path_flip_ud(file_path):\n",
        "  img = tf.io.read_file(file_path)\n",
        "  img = tf.image.decode_jpeg(img, channels=3) \n",
        "  img=flip_ud(img)\n",
        "  return img,file_path\n",
        "\n",
        "def aug_process_path_sat(file_path):\n",
        "  img = tf.io.read_file(file_path)\n",
        "  img = tf.image.decode_jpeg(img, channels=3) \n",
        "  img=sat_img(img)\n",
        "  return img,file_path\n",
        "\n",
        "def aug_process_path_rot(file_path):\n",
        "  img = tf.io.read_file(file_path)\n",
        "  img = tf.image.decode_jpeg(img, channels=3) \n",
        "  img=data_augmentation(img)\n",
        "  return img,file_path\n",
        "\n",
        "def aug_process_path_cet(file_path):\n",
        "  img = tf.io.read_file(file_path)\n",
        "  img = tf.image.decode_jpeg(img, channels=3) \n",
        "  img=cen_img(img)\n",
        "  return img,file_path\n",
        "\n",
        "aug_train_ds1 = train_ds.map(aug_process_path_flip_ud, num_parallel_calls=AUTOTUNE)\n",
        "aug_train_ds2 = train_ds.map(aug_process_path_sat, num_parallel_calls=AUTOTUNE)\n",
        "aug_train_ds3 = train_ds.map(aug_process_path_cet, num_parallel_calls=AUTOTUNE)\n",
        "aug_train_ds4 = train_ds.map(aug_process_path_rot, num_parallel_calls=AUTOTUNE)\n",
        "\n",
        "import matplotlib.pyplot as plt\n",
        "import os\n",
        "# Total: 2664\n",
        "base_dir='/content/drive/MyDrive/Object_detection/GroceryDataset_part1/aug_images'\n",
        "c=0\n",
        "for image,fp in aug_train_ds2.as_numpy_iterator():\n",
        "  c+=1\n",
        "  if c%100==0:\n",
        "    print(c)\n",
        "  img_path=fp.decode('utf-8')\n",
        "  img_name=img_path.split('/')[-1].split('.')[0]\n",
        "  class_name=img_path.split('/')[-2]\n",
        "  if not os.path.exists(f'{base_dir}/{class_name}'):\n",
        "    os.mkdir(f'{base_dir}/{class_name}')\n",
        "  else:\n",
        "    if len(glob.glob(f'{base_dir}/{class_name}/*.jpg'))<=350:\n",
        "      cv2.imwrite(f'{base_dir}/{class_name}/Saturation-{img_name}.jpg',image)\n",
        "    else:\n",
        "      pass"
      ],
      "execution_count": null,
      "outputs": []
    },
    {
      "cell_type": "markdown",
      "metadata": {
        "id": "L00MlF2G8MU_"
      },
      "source": [
        "# Create Data Loader"
      ]
    },
    {
      "cell_type": "code",
      "metadata": {
        "id": "b5g56sJQ0KUQ"
      },
      "source": [
        "def get_label(file_path):\n",
        "  label_name=tf.strings.split(file_path, os.path.sep)[-2] #split('.')[0]\n",
        "  if label_name=='1':\n",
        "      label=[0]\n",
        "  elif label_name=='2':\n",
        "      label=[1]\n",
        "  elif label_name=='3':\n",
        "      label=[2]\n",
        "  elif label_name=='4':\n",
        "      label=[3]\n",
        "  elif label_name=='5':\n",
        "      label=[4]\n",
        "  elif label_name=='6':\n",
        "      label=[5]\n",
        "  elif label_name=='7':\n",
        "      label=[6]\n",
        "  elif label_name=='8':\n",
        "      label=[7]\n",
        "  elif label_name=='9':\n",
        "      label=[8]\n",
        "  else:\n",
        "      label=[9]\n",
        "  return tf.expand_dims(label,axis=1)\n",
        "\n",
        "def resize_img(img,t_height,t_width):\n",
        "  img = tf.image.decode_jpeg(img, channels=3) \n",
        "  img=img/255\n",
        "  img=tf.image.resize_with_pad(img,t_height, t_width)\n",
        "  return img\n",
        "\n",
        "def process_path(file_path):\n",
        "  label = get_label(file_path)\n",
        "  img = tf.io.read_file(file_path)\n",
        "  img = resize_img(img,t_height,t_width)\n",
        "  img=tf.expand_dims(img, axis=0)\n",
        "  return img, label\n",
        "\n",
        "def test_process_path(file_path):\n",
        "  label = get_label(file_path)\n",
        "  img = tf.io.read_file(file_path)\n",
        "  img = resize_img(img,t_height,t_width)\n",
        "  img=tf.expand_dims(img, axis=0)\n",
        "  return img, label"
      ],
      "execution_count": null,
      "outputs": []
    },
    {
      "cell_type": "code",
      "metadata": {
        "id": "eQbLOjPb4MC4"
      },
      "source": [
        "t_height,t_width=352,208\n",
        "AUTOTUNE = tf.data.AUTOTUNE"
      ],
      "execution_count": null,
      "outputs": []
    },
    {
      "cell_type": "code",
      "metadata": {
        "id": "hJmUG9kx0Kw8"
      },
      "source": [
        "new_train_ds = train_ds.map(process_path, num_parallel_calls=AUTOTUNE)\n",
        "new_val_ds = val_ds.map(process_path, num_parallel_calls=AUTOTUNE)\n",
        "new_test_ds = test_ds.map(test_process_path, num_parallel_calls=AUTOTUNE)"
      ],
      "execution_count": null,
      "outputs": []
    },
    {
      "cell_type": "code",
      "metadata": {
        "id": "7H_Lx-ec0K-C"
      },
      "source": [
        "import matplotlib.pyplot as plt\n",
        "\n",
        "for image, label in new_train_ds.take(5):\n",
        "  print(\"Image shape: \", image.numpy().shape)\n",
        "  fig=plt.figure()\n",
        "  plt.imshow(image.numpy()[0])\n",
        "  print(\"Label: \", label.numpy())"
      ],
      "execution_count": null,
      "outputs": []
    },
    {
      "cell_type": "code",
      "metadata": {
        "id": "lB22Sq3d9fIu"
      },
      "source": [
        "for path in train_paths:\n",
        "  if path.split('/')[-1].split('.')[-1]!='jpg':\n",
        "    print(path)"
      ],
      "execution_count": null,
      "outputs": []
    },
    {
      "cell_type": "markdown",
      "metadata": {
        "id": "K_k8WioAlAW8"
      },
      "source": [
        "# Model Training"
      ]
    },
    {
      "cell_type": "code",
      "metadata": {
        "colab": {
          "base_uri": "https://localhost:8080/"
        },
        "id": "SDYHM50Z0LHm",
        "outputId": "f050c725-5f38-4295-8dc5-65cfd0c3042e"
      },
      "source": [
        "from tensorflow.keras import layers\n",
        "from tensorflow.keras import Model\n",
        "from tensorflow.keras.applications.inception_v3 import InceptionV3\n",
        "from tensorflow.keras.optimizers import RMSprop\n",
        "\n",
        "pre_trained_model = InceptionV3(input_shape = (t_height,t_width, 3), \n",
        "                                include_top = False, \n",
        "                                weights = 'imagenet')\n",
        "\n",
        "\n",
        "for layer in pre_trained_model.layers:\n",
        "     layer.trainable = False\n",
        "        \n",
        "last_layer = pre_trained_model.get_layer('mixed7')\n",
        "print('last layer output shape: ', last_layer.output_shape)\n",
        "last_output = last_layer.output\n",
        "\n",
        "x = layers.Flatten()(last_output)\n",
        "# x = layers.Dense(1024, activation='relu')(x)\n",
        "# x = layers.Dropout(0.2)(x)                  \n",
        "x = layers.Dense(10, activation='softmax')(x)           \n",
        "\n",
        "model = Model(pre_trained_model.input, x) \n",
        "\n",
        "model.compile(optimizer = RMSprop(learning_rate=0.001), \n",
        "              loss = 'sparse_categorical_crossentropy', \n",
        "              metrics = ['acc'])"
      ],
      "execution_count": null,
      "outputs": [
        {
          "output_type": "stream",
          "text": [
            "last layer output shape:  (None, 20, 11, 768)\n"
          ],
          "name": "stdout"
        }
      ]
    },
    {
      "cell_type": "code",
      "metadata": {
        "colab": {
          "base_uri": "https://localhost:8080/"
        },
        "id": "QCwZ6hhg3LJC",
        "outputId": "9d3cab92-d9de-4f41-f3f8-e6f2f5126405"
      },
      "source": [
        "checkpoint_filepath = '/content/drive/MyDrive/Object_detection/Item_classifier_model'\n",
        "model_checkpoint_callback = tf.keras.callbacks.ModelCheckpoint(\n",
        "    filepath=checkpoint_filepath,\n",
        "    save_weights_only=True,\n",
        "    monitor='val_acc',\n",
        "    mode='max',\n",
        "    save_best_only=True)\n",
        "\n",
        "EPOCHS=1\n",
        "history=model.fit(new_train_ds,batch_size=32,validation_data=new_val_ds,epochs=EPOCHS, callbacks=[model_checkpoint_callback])"
      ],
      "execution_count": null,
      "outputs": [
        {
          "output_type": "stream",
          "text": [
            "5179/5179 [==============================] - 572s 94ms/step - loss: 0.5026 - acc: 0.9344 - val_loss: 0.0138 - val_acc: 0.9977\n"
          ],
          "name": "stdout"
        }
      ]
    },
    {
      "cell_type": "code",
      "metadata": {
        "colab": {
          "base_uri": "https://localhost:8080/"
        },
        "id": "5PZroJIcD1qx",
        "outputId": "bc441728-8a83-435f-bb86-08e87e1b80b5"
      },
      "source": [
        "history=model.fit(new_train_ds,batch_size=32,validation_data=new_val_ds,epochs=EPOCHS, callbacks=[model_checkpoint_callback])"
      ],
      "execution_count": null,
      "outputs": [
        {
          "output_type": "stream",
          "text": [
            "5179/5179 [==============================] - 169s 33ms/step - loss: 0.0023 - acc: 0.9992 - val_loss: 0.0112 - val_acc: 0.9977\n"
          ],
          "name": "stdout"
        }
      ]
    },
    {
      "cell_type": "code",
      "metadata": {
        "id": "13IBzRqEGv96"
      },
      "source": [
        "model.save(\"/content/drive/MyDrive/Object_detection/Aug_item_classifier_model.h5\")"
      ],
      "execution_count": null,
      "outputs": []
    },
    {
      "cell_type": "code",
      "metadata": {
        "colab": {
          "base_uri": "https://localhost:8080/"
        },
        "id": "GQAm8DhTFCqI",
        "outputId": "65750cf7-eaa3-4998-e38e-fc8c92e1f2db"
      },
      "source": [
        "history=model.fit(new_train_ds,batch_size=32,validation_data=new_val_ds,epochs=EPOCHS, callbacks=[model_checkpoint_callback])"
      ],
      "execution_count": null,
      "outputs": [
        {
          "output_type": "stream",
          "text": [
            "5179/5179 [==============================] - 172s 33ms/step - loss: 1.8687e-04 - acc: 1.0000 - val_loss: 0.0014 - val_acc: 0.9992\n"
          ],
          "name": "stdout"
        }
      ]
    },
    {
      "cell_type": "code",
      "metadata": {
        "id": "zZuvhEyjGulf"
      },
      "source": [
        "model.save(\"/content/drive/MyDrive/Object_detection/Aug_item_classifier_model1.h5\")"
      ],
      "execution_count": null,
      "outputs": []
    },
    {
      "cell_type": "code",
      "metadata": {
        "colab": {
          "base_uri": "https://localhost:8080/"
        },
        "id": "zTE2rJ6DGpm5",
        "outputId": "39b111d4-524c-472e-b917-bd548712c4b6"
      },
      "source": [
        "history=model.fit(new_train_ds,batch_size=32,validation_data=new_val_ds,epochs=EPOCHS, callbacks=[model_checkpoint_callback])"
      ],
      "execution_count": null,
      "outputs": [
        {
          "output_type": "stream",
          "text": [
            "5179/5179 [==============================] - 169s 33ms/step - loss: 1.5868e-07 - acc: 1.0000 - val_loss: 2.2260e-04 - val_acc: 1.0000\n"
          ],
          "name": "stdout"
        }
      ]
    },
    {
      "cell_type": "code",
      "metadata": {
        "id": "mQImyO_rii1J"
      },
      "source": [
        "model.save(\"/content/drive/MyDrive/Object_detection/Aug_item_classifier_model2.h5\") "
      ],
      "execution_count": null,
      "outputs": []
    },
    {
      "cell_type": "markdown",
      "metadata": {
        "id": "YchUMX4FlFJF"
      },
      "source": [
        "# Evaluation"
      ]
    },
    {
      "cell_type": "code",
      "metadata": {
        "id": "IaZ5c8cpAwXw"
      },
      "source": [
        "from sklearn.metrics import classification_report, confusion_matrix\n",
        "\n",
        "y_actual = []\n",
        "for image, label in new_test_ds:\n",
        "  y_actual.append(label.numpy().reshape(-1))\n",
        "y_actual = np.array(y_actual)"
      ],
      "execution_count": null,
      "outputs": []
    },
    {
      "cell_type": "code",
      "metadata": {
        "id": "9TbHijyZiZ_I"
      },
      "source": [
        "from keras import models\n",
        "model=models.load_model('/content/drive/MyDrive/Object_detection/Item_classifier_model')"
      ],
      "execution_count": null,
      "outputs": []
    },
    {
      "cell_type": "code",
      "metadata": {
        "id": "a7H-2heVAxbk"
      },
      "source": [
        "model.evaluate(new_test_ds)"
      ],
      "execution_count": null,
      "outputs": []
    },
    {
      "cell_type": "code",
      "metadata": {
        "id": "NI8xLg07h4uq"
      },
      "source": [
        "model=models.load_model('/content/drive/MyDrive/Object_detection/item_classifier_model.h5')"
      ],
      "execution_count": null,
      "outputs": []
    },
    {
      "cell_type": "code",
      "metadata": {
        "id": "2DPCp7DSnwFK"
      },
      "source": [
        "model.evaluate(new_test_ds)"
      ],
      "execution_count": null,
      "outputs": []
    },
    {
      "cell_type": "code",
      "metadata": {
        "id": "KKChjI4XoUkj"
      },
      "source": [
        "pred=model.predict(new_test_ds)"
      ],
      "execution_count": null,
      "outputs": []
    },
    {
      "cell_type": "code",
      "metadata": {
        "id": "BXOpqD1Nxtqp"
      },
      "source": [
        ""
      ],
      "execution_count": null,
      "outputs": []
    }
  ]
}